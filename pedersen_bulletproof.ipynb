{
  "nbformat": 4,
  "nbformat_minor": 0,
  "metadata": {
    "colab": {
      "name": "pedersen/bulletproof.ipynb",
      "provenance": [],
      "collapsed_sections": []
    },
    "kernelspec": {
      "name": "python3",
      "display_name": "Python 3"
    },
    "language_info": {
      "name": "python"
    }
  },
  "cells": [
    {
      "cell_type": "markdown",
      "source": [
        "Install libraries"
      ],
      "metadata": {
        "id": "ni9RKbW9VaVD"
      }
    },
    {
      "cell_type": "code",
      "source": [
        "!git clone https://github.com/kendricktan/pybp"
      ],
      "metadata": {
        "colab": {
          "base_uri": "https://localhost:8080/"
        },
        "id": "h2U2jwo4FpiQ",
        "outputId": "d356e977-ceb9-4044-81f9-9d8743798462"
      },
      "execution_count": 1,
      "outputs": [
        {
          "output_type": "stream",
          "name": "stdout",
          "text": [
            "Cloning into 'pybp'...\n",
            "remote: Enumerating objects: 113, done.\u001b[K\n",
            "remote: Total 113 (delta 0), reused 0 (delta 0), pack-reused 113\u001b[K\n",
            "Receiving objects: 100% (113/113), 59.62 KiB | 1000.00 KiB/s, done.\n",
            "Resolving deltas: 100% (54/54), done.\n"
          ]
        }
      ]
    },
    {
      "cell_type": "code",
      "source": [
        "%cd pybp"
      ],
      "metadata": {
        "colab": {
          "base_uri": "https://localhost:8080/"
        },
        "id": "1qsI6edKGE2b",
        "outputId": "03559c24-4e59-4874-f439-455eb70131fb"
      },
      "execution_count": 2,
      "outputs": [
        {
          "output_type": "stream",
          "name": "stdout",
          "text": [
            "/content/pybp\n"
          ]
        }
      ]
    },
    {
      "cell_type": "code",
      "source": [
        "!pip install coincurve"
      ],
      "metadata": {
        "colab": {
          "base_uri": "https://localhost:8080/"
        },
        "id": "UMyK3UTDGJb8",
        "outputId": "0c1f02ed-b669-41da-8efd-c06755b32805"
      },
      "execution_count": 3,
      "outputs": [
        {
          "output_type": "stream",
          "name": "stdout",
          "text": [
            "Looking in indexes: https://pypi.org/simple, https://us-python.pkg.dev/colab-wheels/public/simple/\n",
            "Collecting coincurve\n",
            "  Downloading coincurve-17.0.0-cp37-cp37m-manylinux_2_17_x86_64.manylinux2014_x86_64.whl (1.3 MB)\n",
            "\u001b[K     |████████████████████████████████| 1.3 MB 4.3 MB/s \n",
            "\u001b[?25hRequirement already satisfied: cffi>=1.3.0 in /usr/local/lib/python3.7/dist-packages (from coincurve) (1.15.1)\n",
            "Collecting asn1crypto\n",
            "  Downloading asn1crypto-1.5.1-py2.py3-none-any.whl (105 kB)\n",
            "\u001b[K     |████████████████████████████████| 105 kB 54.2 MB/s \n",
            "\u001b[?25hRequirement already satisfied: pycparser in /usr/local/lib/python3.7/dist-packages (from cffi>=1.3.0->coincurve) (2.21)\n",
            "Installing collected packages: asn1crypto, coincurve\n",
            "Successfully installed asn1crypto-1.5.1 coincurve-17.0.0\n"
          ]
        }
      ]
    },
    {
      "cell_type": "code",
      "source": [
        "import sys\n",
        "\n",
        "from pybp.pederson import PedersonCommitment\n",
        "from pybp.rangeproof import RangeProof"
      ],
      "metadata": {
        "id": "H1qyGUCdGShw"
      },
      "execution_count": 4,
      "outputs": []
    },
    {
      "cell_type": "code",
      "source": [
        "## value should that modify \n",
        "value = int(3)\n",
        "bitlength = int(4)"
      ],
      "metadata": {
        "id": "ShbBjj1CGWUv"
      },
      "execution_count": 5,
      "outputs": []
    },
    {
      "cell_type": "code",
      "source": [
        "print(\"Starting rangeproof test for value: \", value,\n",
        "      \" in range from 0 to 2^\", bitlength)\n",
        "fail = False\n",
        "if not (0 < value and value < 2**bitlength):\n",
        "    print(\"Value is NOT in range; we want verification to FAIL.\")\n",
        "    fail = True\n",
        "    # To attempt to forge a rangeproof for a not-in-range value,\n",
        "    # we'll do the following: make a *valid* proof for the truncated\n",
        "    # bits of our overflowed value, and then apply a V pedersen commitment\n",
        "    # to our actual value, which will (should!) fail.\n",
        "    # Obviously, there are a near-infinite number of ways to create\n",
        "    # invalid proofs, TODO look into others.\n",
        "    proofval = value & (2**bitlength - 1)\n",
        "    print(\"Using truncated bits, value: \", proofval, \" to create fake proof.\")\n",
        "else:\n",
        "    proofval = value"
      ],
      "metadata": {
        "colab": {
          "base_uri": "https://localhost:8080/"
        },
        "id": "aECzPI2XGdab",
        "outputId": "5ee4f53c-a5c3-48a4-d390-c9848427c6a0"
      },
      "execution_count": 6,
      "outputs": [
        {
          "output_type": "stream",
          "name": "stdout",
          "text": [
            "Starting rangeproof test for value:  3  in range from 0 to 2^ 4\n"
          ]
        }
      ]
    },
    {
      "cell_type": "code",
      "source": [
        "rp = RangeProof(bitlength)"
      ],
      "metadata": {
        "id": "DTMQccW2Gf8L"
      },
      "execution_count": 8,
      "outputs": []
    },
    {
      "cell_type": "code",
      "source": [
        "rp.generate_proof(proofval)"
      ],
      "metadata": {
        "id": "kMxXYg1LGiiT"
      },
      "execution_count": 10,
      "outputs": []
    },
    {
      "cell_type": "code",
      "source": [
        "proof = rp.get_proof_dict()"
      ],
      "metadata": {
        "id": "4z_lMc1eGj7P"
      },
      "execution_count": 11,
      "outputs": []
    },
    {
      "cell_type": "code",
      "source": [
        " Varg = PedersonCommitment(value, b=rp.gamma).get_commitment()"
      ],
      "metadata": {
        "id": "XHjKXD-2JDtW"
      },
      "execution_count": 12,
      "outputs": []
    },
    {
      "cell_type": "code",
      "source": [
        "rp.verify(proof['Ap'],\n",
        "    proof['Sp'],\n",
        "    proof['T1p'],\n",
        "    proof['T2p'],\n",
        "    proof['tau_x'],\n",
        "    proof['mu'],\n",
        "    proof['t'],\n",
        "    proof['proof'],\n",
        "    Varg)"
      ],
      "metadata": {
        "colab": {
          "base_uri": "https://localhost:8080/"
        },
        "id": "VguXx3RtG6_-",
        "outputId": "269fdb47-5b50-4678-a9db-0c1026958fa0"
      },
      "execution_count": null,
      "outputs": [
        {
          "output_type": "execute_result",
          "data": {
            "text/plain": [
              "True"
            ]
          },
          "metadata": {},
          "execution_count": 17
        }
      ]
    },
    {
      "cell_type": "markdown",
      "source": [
        "Test serialization"
      ],
      "metadata": {
        "id": "2aHGz08wV323"
      }
    },
    {
      "cell_type": "code",
      "source": [
        "import pickle\n",
        "with open('filename.pickle', 'wb') as handle:\n",
        "    pickle.dump(rp, handle, protocol=pickle.HIGHEST_PROTOCOL)"
      ],
      "metadata": {
        "id": "UwedowunIi5r"
      },
      "execution_count": null,
      "outputs": []
    },
    {
      "cell_type": "code",
      "source": [
        "with open('filename.pickle', 'rb') as handle:\n",
        "    b = pickle.load(handle)"
      ],
      "metadata": {
        "id": "6c_kTP4KIyTz"
      },
      "execution_count": null,
      "outputs": []
    },
    {
      "cell_type": "code",
      "source": [
        "import pickle\n",
        "with open('filename1.pickle', 'wb') as handle:\n",
        "    pickle.dump(proof, handle, protocol=pickle.HIGHEST_PROTOCOL)"
      ],
      "metadata": {
        "id": "t4f9HdskI4GF"
      },
      "execution_count": null,
      "outputs": []
    },
    {
      "cell_type": "code",
      "source": [
        "with open('filename1.pickle', 'rb') as handle:\n",
        "    b = pickle.load(handle)"
      ],
      "metadata": {
        "id": "5MU6Ohz4I5Z3"
      },
      "execution_count": null,
      "outputs": []
    }
  ]
}